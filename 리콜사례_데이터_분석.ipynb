{
 "cells": [
  {
   "cell_type": "code",
   "execution_count": 3,
   "id": "ecfecd99-f884-419e-948a-03d7aad3867f",
   "metadata": {},
   "outputs": [
    {
     "ename": "ModuleNotFoundError",
     "evalue": "No module named 'mongodb_connecting'",
     "output_type": "error",
     "traceback": [
      "\u001b[0;31m---------------------------------------------------------------------------\u001b[0m",
      "\u001b[0;31mModuleNotFoundError\u001b[0m                       Traceback (most recent call last)",
      "Cell \u001b[0;32mIn[3], line 10\u001b[0m\n\u001b[1;32m      7\u001b[0m \u001b[38;5;28;01mimport\u001b[39;00m \u001b[38;5;21;01msys\u001b[39;00m\n\u001b[1;32m      9\u001b[0m \u001b[38;5;66;03m# MongoDB import \u001b[39;00m\n\u001b[0;32m---> 10\u001b[0m \u001b[38;5;28;01mimport\u001b[39;00m \u001b[38;5;21;01mmongodb_connecting\u001b[39;00m\n",
      "\u001b[0;31mModuleNotFoundError\u001b[0m: No module named 'mongodb_connecting'"
     ]
    }
   ],
   "source": [
    "# package import\n",
    "import pandas as pd\n",
    "import numpy as np\n",
    "import matplotlib.pyplot as plt\n",
    "import seaborn as sns\n",
    "import sys\n",
    "import pymongo import MongoClient"
   ]
  },
  {
   "cell_type": "code",
   "execution_count": null,
   "id": "22ccadf0-1d19-4dd1-9731-066dcd15983e",
   "metadata": {},
   "outputs": [],
   "source": []
  },
  {
   "cell_type": "code",
   "execution_count": null,
   "id": "f2f5ba3f-25b5-46d6-932f-f8d35d6d6c20",
   "metadata": {},
   "outputs": [],
   "source": [
    "# 그래프 설정\n",
    "plt.rcParams[\"font.family\"] = \"Malgun Gothic\"\n",
    "plt.rcParams[\"axes.unicode_minus\"] = False"
   ]
  },
  {
   "cell_type": "code",
   "execution_count": null,
   "id": "1821ef3e-1e42-46db-a79f-5b782e3123de",
   "metadata": {},
   "outputs": [],
   "source": [
    "# MongoDB에서 데이터 조회\n",
    "mongo_data = mongodb_connecting.query_data_from_mongodb()"
   ]
  },
  {
   "cell_type": "code",
   "execution_count": null,
   "id": "f5531c3a-b773-474f-a50b-2545c89da696",
   "metadata": {},
   "outputs": [],
   "source": [
    "# CSV 파일에서 데이터 로드\n",
    "car_data = pd.read_csv(\"./data/한국교통안전공단_자동차결함 리콜현황_20221231.csv\", encoding=\"cp949\")"
   ]
  },
  {
   "cell_type": "code",
   "execution_count": null,
   "id": "51ee7f12-f9bf-43b2-b129-88c5293a5495",
   "metadata": {},
   "outputs": [],
   "source": [
    "# CSV 파일에서 데이터 로드 후 표로 시각화\n",
    "car_data"
   ]
  },
  {
   "cell_type": "code",
   "execution_count": null,
   "id": "ab8d4e8b-7b4b-4e79-93c6-0b0755add5ca",
   "metadata": {},
   "outputs": [],
   "source": [
    "# MongoDB에서 데이터 조회\n",
    "mongo_data = mongodb_connecting.query_data_from_mongodb()"
   ]
  },
  {
   "cell_type": "code",
   "execution_count": null,
   "id": "68aee96f-c5be-4e86-9882-97d0277f524f",
   "metadata": {},
   "outputs": [],
   "source": [
    "df = pd.read_csv(\"./data/한국교통안전공단_자동차결함 리콜현황_20221231.csv\", encoding='cp949')\n",
    "\n",
    "# 제작자별 리콜 횟수 카운트\n",
    "recall_counts = mongo_data['제작자'].value_counts().reset_index()\n",
    "recall_counts.columns = ['제작자', '리콜 횟수']"
   ]
  },
  {
   "cell_type": "code",
   "execution_count": null,
   "id": "5aea42a9-c856-49b3-b75a-1d90f829aa26",
   "metadata": {},
   "outputs": [],
   "source": [
    "# 카운트 결과 출력\n",
    "print(recall_counts)"
   ]
  },
  {
   "cell_type": "code",
   "execution_count": null,
   "id": "69378660-23ac-415c-aa55-a0470ee2ca7f",
   "metadata": {},
   "outputs": [],
   "source": [
    "# 그래프 시각화\n",
    "plt.figure(figsize=(12, 8))\n",
    "plt.bar(recall_counts['제작자'], recall_counts['리콜 횟수'])\n",
    "plt.xlabel('제작자')\n",
    "plt.ylabel('리콜 횟수')\n",
    "plt.title('제작자별 리콜 횟수')\n",
    "plt.xticks(rotation=45, ha='right')\n",
    "plt.tight_layout()\n",
    "plt.show()"
   ]
  },
  {
   "cell_type": "code",
   "execution_count": null,
   "id": "17fd98e6-80f9-4045-96a8-8568295727a6",
   "metadata": {},
   "outputs": [],
   "source": [
    "# 추가적인 데이터 분석 및 시각화\n",
    "car_data = mongo_data  # MongoDB에서 가져온 데이터 사용\n",
    "car_data[\"제작자\"].unique()\n",
    "car_data[\"리콜사유\"].unique()"
   ]
  },
  {
   "cell_type": "code",
   "execution_count": null,
   "id": "6b3af81e-f882-4511-b37f-1f26c876e022",
   "metadata": {},
   "outputs": [],
   "source": [
    "car_sample = car_data.loc[:, ['제작자', '리콜개시일', '리콜사유']]\n",
    "car_sample"
   ]
  },
  {
   "cell_type": "code",
   "execution_count": null,
   "id": "83621b62-e5b4-4db9-8e79-452ab0618de8",
   "metadata": {},
   "outputs": [],
   "source": [
    "df = pd.DataFrame(recall_counts)\n",
    "df"
   ]
  },
  {
   "cell_type": "code",
   "execution_count": null,
   "id": "e53efcc2-f27a-4a2b-b8e8-ee63ba152a48",
   "metadata": {},
   "outputs": [],
   "source": [
    "recall_counts.describe()"
   ]
  },
  {
   "cell_type": "code",
   "execution_count": null,
   "id": "766fe7fa-71c5-43c7-9ea4-905e9f76c5d1",
   "metadata": {},
   "outputs": [],
   "source": [
    "bmw_data = df[df['제작자'] == '비엠더블유코리아(주)']\n",
    "bmw_data"
   ]
  },
  {
   "cell_type": "code",
   "execution_count": null,
   "id": "2275a1c7-34c3-4a4b-b6fc-c8597acb1202",
   "metadata": {},
   "outputs": [],
   "source": [
    "company = car_data[car_data['제작자'] == '비엠더블유코리아(주)']\n",
    "company"
   ]
  },
  {
   "cell_type": "code",
   "execution_count": null,
   "id": "c3439570-ccbc-488e-8e61-346603c01fb4",
   "metadata": {},
   "outputs": [],
   "source": [
    "result = car_data[(car_data['제작자'] == '비엠더블유코리아(주)')]['리콜사유']\n",
    "result"
   ]
  },
  {
   "cell_type": "code",
   "execution_count": null,
   "id": "72ba0848-71e6-434d-b9cc-ff3a87dc203c",
   "metadata": {},
   "outputs": [],
   "source": [
    "df = pd.DataFrame(result)\n",
    "df"
   ]
  },
  {
   "cell_type": "code",
   "execution_count": null,
   "id": "c7091c2f-e2b1-4a8c-8b04-b1d513767992",
   "metadata": {},
   "outputs": [],
   "source": [
    "result2 = car_data[car_data['제작자'] == '비엠더블유코리아(주)']['제작자']\n",
    "result2"
   ]
  },
  {
   "cell_type": "code",
   "execution_count": null,
   "id": "05feedf2-b641-425c-992b-8386400c6f28",
   "metadata": {},
   "outputs": [],
   "source": [
    "df = pd.DataFrame(result2)\n",
    "df"
   ]
  },
  {
   "cell_type": "code",
   "execution_count": null,
   "id": "bf2509a4-d6b8-45d7-a9cf-08b35208b5cc",
   "metadata": {},
   "outputs": [],
   "source": [
    "result3 = pd.concat([result2, result], axis=1)\n",
    "result3"
   ]
  },
  {
   "cell_type": "code",
   "execution_count": null,
   "id": "446032ac-e3e1-4dcb-8eac-53624cdeb270",
   "metadata": {},
   "outputs": [],
   "source": [
    "result3.head(432)"
   ]
  },
  {
   "cell_type": "code",
   "execution_count": null,
   "id": "e0bbcf34-2693-4352-8c46-3ff97a24b57d",
   "metadata": {},
   "outputs": [],
   "source": [
    "result3.to_string()"
   ]
  },
  {
   "cell_type": "code",
   "execution_count": null,
   "id": "5f6fbac1-29de-45e9-a92d-63127ff7801e",
   "metadata": {},
   "outputs": [],
   "source": [
    "benz = car_data[car_data['제작자'] == '메르세데스벤츠코리아(주)']['제작자']\n",
    "benz"
   ]
  },
  {
   "cell_type": "code",
   "execution_count": null,
   "id": "6aadc801-259c-46c6-9881-2894226da12c",
   "metadata": {},
   "outputs": [],
   "source": [
    "df = pd.DataFrame(benz)\n",
    "df"
   ]
  },
  {
   "cell_type": "code",
   "execution_count": 29,
   "id": "8246779a-b4b9-4b0c-ab17-7bdaa209e1b5",
   "metadata": {},
   "outputs": [
    {
     "ename": "NameError",
     "evalue": "name 'car_data' is not defined",
     "output_type": "error",
     "traceback": [
      "\u001b[0;31m---------------------------------------------------------------------------\u001b[0m",
      "\u001b[0;31mNameError\u001b[0m                                 Traceback (most recent call last)",
      "Cell \u001b[0;32mIn[29], line 1\u001b[0m\n\u001b[0;32m----> 1\u001b[0m benz_reason \u001b[38;5;241m=\u001b[39m car_data[(car_data[\u001b[38;5;124m'\u001b[39m\u001b[38;5;124m제작자\u001b[39m\u001b[38;5;124m'\u001b[39m] \u001b[38;5;241m==\u001b[39m \u001b[38;5;124m'\u001b[39m\u001b[38;5;124m메르세데스벤츠코리아(주)\u001b[39m\u001b[38;5;124m'\u001b[39m)][\u001b[38;5;124m'\u001b[39m\u001b[38;5;124m리콜사유\u001b[39m\u001b[38;5;124m'\u001b[39m]\n\u001b[1;32m      2\u001b[0m benz_reason\n",
      "\u001b[0;31mNameError\u001b[0m: name 'car_data' is not defined"
     ]
    }
   ],
   "source": [
    "benz_reason = car_data[(car_data['제작자'] == '메르세데스벤츠코리아(주)')]['리콜사유']\n",
    "benz_reason"
   ]
  },
  {
   "cell_type": "code",
   "execution_count": null,
   "id": "0ef85892-5ddf-4c9d-8f0b-3d706d394bc6",
   "metadata": {},
   "outputs": [],
   "source": [
    "result10 = pd.concat([benz, benz_reason], axis=1)\n",
    "result10"
   ]
  },
  {
   "cell_type": "code",
   "execution_count": 32,
   "id": "7f7e473d-c025-4c16-bfd1-3a68b34d51e0",
   "metadata": {},
   "outputs": [
    {
     "ename": "NameError",
     "evalue": "name 'result10' is not defined",
     "output_type": "error",
     "traceback": [
      "\u001b[0;31m---------------------------------------------------------------------------\u001b[0m",
      "\u001b[0;31mNameError\u001b[0m                                 Traceback (most recent call last)",
      "Cell \u001b[0;32mIn[32], line 1\u001b[0m\n\u001b[0;32m----> 1\u001b[0m result10\u001b[38;5;241m.\u001b[39mhead(\u001b[38;5;241m330\u001b[39m)\n",
      "\u001b[0;31mNameError\u001b[0m: name 'result10' is not defined"
     ]
    }
   ],
   "source": [
    "result10.head(330)"
   ]
  },
  {
   "cell_type": "code",
   "execution_count": null,
   "id": "c9b28e95-83d7-49c0-b34b-3ecbcfb404a1",
   "metadata": {},
   "outputs": [],
   "source": [
    "result10.to_string()"
   ]
  }
 ],
 "metadata": {
  "kernelspec": {
   "display_name": "Python 3 (ipykernel)",
   "language": "python",
   "name": "python3"
  },
  "language_info": {
   "codemirror_mode": {
    "name": "ipython",
    "version": 3
   },
   "file_extension": ".py",
   "mimetype": "text/x-python",
   "name": "python",
   "nbconvert_exporter": "python",
   "pygments_lexer": "ipython3",
   "version": "3.11.7"
  }
 },
 "nbformat": 4,
 "nbformat_minor": 5
}
